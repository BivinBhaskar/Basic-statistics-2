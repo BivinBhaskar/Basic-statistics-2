{
 "cells": [
  {
   "cell_type": "code",
   "execution_count": 1,
   "id": "92e13dbd",
   "metadata": {},
   "outputs": [],
   "source": [
    "import numpy as np \n",
    "import pandas as pd\n",
    "import matplotlib.pyplot as plt\n",
    "import seaborn as sns\n",
    "import scipy.stats as st"
   ]
  },
  {
   "cell_type": "markdown",
   "id": "e45376b3",
   "metadata": {},
   "source": [
    "## Question 8"
   ]
  },
  {
   "cell_type": "code",
   "execution_count": 2,
   "id": "a5fb741b",
   "metadata": {},
   "outputs": [
    {
     "name": "stdout",
     "output_type": "stream",
     "text": [
      "Minimum required sample size: 600\n"
     ]
    }
   ],
   "source": [
    "import scipy.stats as st\n",
    "\n",
    "# Define the desired margin of error (E) and confidence level (CL)\n",
    "margin_of_error = 0.04  # 4% expressed as a decimal\n",
    "confidence_level = 0.95  # 95% confidence level\n",
    "\n",
    "# Calculate the Z-score corresponding to the confidence level\n",
    "z_score = st.norm.ppf((1 + confidence_level) / 2)\n",
    "\n",
    "# Calculate the required sample size\n",
    "required_sample_size = ((z_score**2) * 0.5 * (1 - 0.5)) / (margin_of_error**2)\n",
    "\n",
    "print(f\"Minimum required sample size: {int(required_sample_size)}\")"
   ]
  },
  {
   "cell_type": "code",
   "execution_count": 3,
   "id": "78ec010a",
   "metadata": {},
   "outputs": [
    {
     "name": "stdout",
     "output_type": "stream",
     "text": [
      "Minimum required sample size: 845\n"
     ]
    }
   ],
   "source": [
    "import scipy.stats as st\n",
    "\n",
    "# Define the desired margin of error (E) and confidence level (CL)\n",
    "margin_of_error = 0.04  # 4% expressed as a decimal\n",
    "confidence_level = 0.98  # 95% confidence level\n",
    "\n",
    "# Calculate the Z-score corresponding to the confidence level\n",
    "z_score = st.norm.ppf((1 + confidence_level) / 2)\n",
    "\n",
    "# Calculate the required sample size\n",
    "required_sample_size = ((z_score**2) * 0.5 * (1 - 0.5)) / (margin_of_error**2)\n",
    "\n",
    "print(f\"Minimum required sample size: {int(required_sample_size)}\")"
   ]
  }
 ],
 "metadata": {
  "kernelspec": {
   "display_name": "Python 3 (ipykernel)",
   "language": "python",
   "name": "python3"
  },
  "language_info": {
   "codemirror_mode": {
    "name": "ipython",
    "version": 3
   },
   "file_extension": ".py",
   "mimetype": "text/x-python",
   "name": "python",
   "nbconvert_exporter": "python",
   "pygments_lexer": "ipython3",
   "version": "3.10.9"
  }
 },
 "nbformat": 4,
 "nbformat_minor": 5
}
